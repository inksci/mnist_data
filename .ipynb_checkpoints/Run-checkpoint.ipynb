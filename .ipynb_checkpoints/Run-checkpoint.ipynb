{
 "cells": [
  {
   "cell_type": "code",
   "execution_count": 1,
   "metadata": {
    "scrolled": false
   },
   "outputs": [
    {
     "name": "stderr",
     "output_type": "stream",
     "text": [
      "WARNING: Logging before flag parsing goes to stderr.\n",
      "W0919 22:18:01.969960 139932249036608 deprecation_wrapper.py:119] From /home/inksci/ai-ink/conda-env/py3-tf-jupy-plt-pil/mnist/fully_connected_feed.py:229: The name tf.app.run is deprecated. Please use tf.compat.v1.app.run instead.\n",
      "\n"
     ]
    },
    {
     "name": "stdout",
     "output_type": "stream",
     "text": [
      "Extracting Mnist_data/train-images-idx3-ubyte.gz\n"
     ]
    },
    {
     "name": "stderr",
     "output_type": "stream",
     "text": [
      "W0919 22:18:02.377095 139932249036608 deprecation_wrapper.py:119] From /home/inksci/ai-ink/conda-env/py3-tf-jupy-plt-pil/mnist/fully_connected_feed.py:64: The name tf.placeholder is deprecated. Please use tf.compat.v1.placeholder instead.\n",
      "\n",
      "W0919 22:18:02.379772 139932249036608 deprecation_wrapper.py:119] From /home/inksci/ai-ink/conda-env/py3-tf-jupy-plt-pil/mnist/mnist.py:60: The name tf.truncated_normal is deprecated. Please use tf.random.truncated_normal instead.\n",
      "\n"
     ]
    },
    {
     "name": "stdout",
     "output_type": "stream",
     "text": [
      "Extracting Mnist_data/train-labels-idx1-ubyte.gz\n",
      "Extracting Mnist_data/t10k-images-idx3-ubyte.gz\n",
      "Extracting Mnist_data/t10k-labels-idx1-ubyte.gz\n"
     ]
    },
    {
     "name": "stderr",
     "output_type": "stream",
     "text": [
      "W0919 22:18:02.422206 139932249036608 deprecation.py:323] From /home/inksci/ai-ink/conda-env/py3-tf-jupy-plt-pil/mnist/mnist.py:107: sparse_to_dense (from tensorflow.python.ops.sparse_ops) is deprecated and will be removed in a future version.\n",
      "Instructions for updating:\n",
      "Create a `tf.sparse.SparseTensor` and use `tf.sparse.to_dense` instead.\n",
      "W0919 22:18:02.425297 139932249036608 deprecation.py:323] From /home/inksci/ai-ink/conda-env/py3-tf-jupy-plt-pil/mnist/mnist.py:110: softmax_cross_entropy_with_logits (from tensorflow.python.ops.nn_ops) is deprecated and will be removed in a future version.\n",
      "Instructions for updating:\n",
      "\n",
      "Future major versions of TensorFlow will allow gradients to flow\n",
      "into the labels input on backprop by default.\n",
      "\n",
      "See `tf.nn.softmax_cross_entropy_with_logits_v2`.\n",
      "\n",
      "W0919 22:18:02.448703 139932249036608 deprecation_wrapper.py:119] From /home/inksci/ai-ink/conda-env/py3-tf-jupy-plt-pil/mnist/mnist.py:133: The name tf.summary.scalar is deprecated. Please use tf.compat.v1.summary.scalar instead.\n",
      "\n",
      "W0919 22:18:02.450750 139932249036608 deprecation_wrapper.py:119] From /home/inksci/ai-ink/conda-env/py3-tf-jupy-plt-pil/mnist/mnist.py:135: The name tf.train.GradientDescentOptimizer is deprecated. Please use tf.compat.v1.train.GradientDescentOptimizer instead.\n",
      "\n",
      "W0919 22:18:02.516580 139932249036608 deprecation_wrapper.py:119] From /home/inksci/ai-ink/conda-env/py3-tf-jupy-plt-pil/mnist/fully_connected_feed.py:154: The name tf.summary.merge_all is deprecated. Please use tf.compat.v1.summary.merge_all instead.\n",
      "\n",
      "W0919 22:18:02.518526 139932249036608 deprecation_wrapper.py:119] From /home/inksci/ai-ink/conda-env/py3-tf-jupy-plt-pil/mnist/fully_connected_feed.py:157: The name tf.train.Saver is deprecated. Please use tf.compat.v1.train.Saver instead.\n",
      "\n",
      "W0919 22:18:02.533728 139932249036608 deprecation_wrapper.py:119] From /home/inksci/ai-ink/conda-env/py3-tf-jupy-plt-pil/mnist/fully_connected_feed.py:160: The name tf.Session is deprecated. Please use tf.compat.v1.Session instead.\n",
      "\n",
      "W0919 22:18:02.539704 139932249036608 deprecation.py:323] From /home/inksci/miniconda3/envs/py3-tf-jupy-plt-pil/lib/python3.6/site-packages/tensorflow/python/util/tf_should_use.py:193: initialize_all_variables (from tensorflow.python.ops.variables) is deprecated and will be removed after 2017-03-02.\n",
      "Instructions for updating:\n",
      "Use `tf.global_variables_initializer` instead.\n",
      "W0919 22:18:02.562522 139932249036608 deprecation_wrapper.py:119] From /home/inksci/ai-ink/conda-env/py3-tf-jupy-plt-pil/mnist/fully_connected_feed.py:167: The name tf.summary.FileWriter is deprecated. Please use tf.compat.v1.summary.FileWriter instead.\n",
      "\n",
      "W0919 22:18:02.566016 139932249036608 writer.py:199] Passing a `GraphDef` to the SummaryWriter is deprecated. Pass a `Graph` object instead, such as `sess.graph`.\n"
     ]
    },
    {
     "name": "stdout",
     "output_type": "stream",
     "text": [
      "Step 0: loss = 2.32 (0.053 sec)\n",
      "Step 100: loss = 2.10 (0.001 sec)\n",
      "Step 200: loss = 1.82 (0.001 sec)\n",
      "Step 300: loss = 1.47 (0.001 sec)\n",
      "Step 400: loss = 1.24 (0.001 sec)\n",
      "Step 500: loss = 0.84 (0.001 sec)\n",
      "Step 600: loss = 0.76 (0.001 sec)\n",
      "Step 700: loss = 0.73 (0.001 sec)\n",
      "Step 800: loss = 0.55 (0.001 sec)\n",
      "Step 900: loss = 0.52 (0.001 sec)\n",
      "Training Data Eval:\n",
      "  Num examples: 55000  Num correct: 47530  Precision @ 1: 0.8642\n",
      "Validation Data Eval:\n",
      "  Num examples: 5000  Num correct: 4367  Precision @ 1: 0.8734\n",
      "Test Data Eval:\n",
      "  Num examples: 10000  Num correct: 8723  Precision @ 1: 0.8723\n",
      "Step 1000: loss = 0.49 (0.007 sec)\n",
      "Step 1100: loss = 0.40 (0.090 sec)\n",
      "Step 1200: loss = 0.38 (0.001 sec)\n",
      "Step 1300: loss = 0.54 (0.001 sec)\n",
      "Step 1400: loss = 0.61 (0.001 sec)\n",
      "Step 1500: loss = 0.39 (0.001 sec)\n",
      "Step 1600: loss = 0.52 (0.001 sec)\n",
      "Step 1700: loss = 0.41 (0.001 sec)\n",
      "Step 1800: loss = 0.42 (0.001 sec)\n",
      "Step 1900: loss = 0.36 (0.001 sec)\n",
      "Training Data Eval:\n",
      "  Num examples: 55000  Num correct: 49232  Precision @ 1: 0.8951\n",
      "Validation Data Eval:\n",
      "  Num examples: 5000  Num correct: 4510  Precision @ 1: 0.9020\n",
      "Test Data Eval:\n",
      "  Num examples: 10000  Num correct: 8972  Precision @ 1: 0.8972\n"
     ]
    }
   ],
   "source": [
    "%run fully_connected_feed.py"
   ]
  },
  {
   "cell_type": "code",
   "execution_count": null,
   "metadata": {
    "collapsed": true
   },
   "outputs": [],
   "source": []
  }
 ],
 "metadata": {
  "kernelspec": {
   "display_name": "Python 3",
   "language": "python",
   "name": "python3"
  },
  "language_info": {
   "codemirror_mode": {
    "name": "ipython",
    "version": 3
   },
   "file_extension": ".py",
   "mimetype": "text/x-python",
   "name": "python",
   "nbconvert_exporter": "python",
   "pygments_lexer": "ipython3",
   "version": "3.6.2"
  }
 },
 "nbformat": 4,
 "nbformat_minor": 2
}
